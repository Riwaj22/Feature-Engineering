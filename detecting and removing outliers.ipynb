{
 "cells": [
  {
   "cell_type": "code",
   "execution_count": 1,
   "id": "708119d7",
   "metadata": {},
   "outputs": [],
   "source": [
    "import numpy as np\n",
    "import pandas as pd\n"
   ]
  },
  {
   "cell_type": "code",
   "execution_count": 2,
   "id": "acaaf2d4",
   "metadata": {},
   "outputs": [],
   "source": [
    "from sklearn.datasets import load_boston"
   ]
  },
  {
   "cell_type": "code",
   "execution_count": 25,
   "id": "bae43489",
   "metadata": {},
   "outputs": [
    {
     "name": "stderr",
     "output_type": "stream",
     "text": [
      "C:\\Users\\97798\\anaconda3\\lib\\site-packages\\sklearn\\utils\\deprecation.py:87: FutureWarning: Function load_boston is deprecated; `load_boston` is deprecated in 1.0 and will be removed in 1.2.\n",
      "\n",
      "    The Boston housing prices dataset has an ethical problem. You can refer to\n",
      "    the documentation of this function for further details.\n",
      "\n",
      "    The scikit-learn maintainers therefore strongly discourage the use of this\n",
      "    dataset unless the purpose of the code is to study and educate about\n",
      "    ethical issues in data science and machine learning.\n",
      "\n",
      "    In this special case, you can fetch the dataset from the original\n",
      "    source::\n",
      "\n",
      "        import pandas as pd\n",
      "        import numpy as np\n",
      "\n",
      "\n",
      "        data_url = \"http://lib.stat.cmu.edu/datasets/boston\"\n",
      "        raw_df = pd.read_csv(data_url, sep=\"\\s+\", skiprows=22, header=None)\n",
      "        data = np.hstack([raw_df.values[::2, :], raw_df.values[1::2, :2]])\n",
      "        target = raw_df.values[1::2, 2]\n",
      "\n",
      "    Alternative datasets include the California housing dataset (i.e.\n",
      "    :func:`~sklearn.datasets.fetch_california_housing`) and the Ames housing\n",
      "    dataset. You can load the datasets as follows::\n",
      "\n",
      "        from sklearn.datasets import fetch_california_housing\n",
      "        housing = fetch_california_housing()\n",
      "\n",
      "    for the California housing dataset and::\n",
      "\n",
      "        from sklearn.datasets import fetch_openml\n",
      "        housing = fetch_openml(name=\"house_prices\", as_frame=True)\n",
      "\n",
      "    for the Ames housing dataset.\n",
      "    \n",
      "  warnings.warn(msg, category=FutureWarning)\n"
     ]
    },
    {
     "data": {
      "text/html": [
       "<div>\n",
       "<style scoped>\n",
       "    .dataframe tbody tr th:only-of-type {\n",
       "        vertical-align: middle;\n",
       "    }\n",
       "\n",
       "    .dataframe tbody tr th {\n",
       "        vertical-align: top;\n",
       "    }\n",
       "\n",
       "    .dataframe thead th {\n",
       "        text-align: right;\n",
       "    }\n",
       "</style>\n",
       "<table border=\"1\" class=\"dataframe\">\n",
       "  <thead>\n",
       "    <tr style=\"text-align: right;\">\n",
       "      <th></th>\n",
       "      <th>CRIM</th>\n",
       "      <th>ZN</th>\n",
       "      <th>INDUS</th>\n",
       "      <th>CHAS</th>\n",
       "      <th>NOX</th>\n",
       "      <th>RM</th>\n",
       "      <th>AGE</th>\n",
       "      <th>DIS</th>\n",
       "      <th>RAD</th>\n",
       "      <th>TAX</th>\n",
       "      <th>PTRATIO</th>\n",
       "      <th>B</th>\n",
       "      <th>LSTAT</th>\n",
       "    </tr>\n",
       "  </thead>\n",
       "  <tbody>\n",
       "    <tr>\n",
       "      <th>0</th>\n",
       "      <td>0.00632</td>\n",
       "      <td>18.0</td>\n",
       "      <td>2.31</td>\n",
       "      <td>0.0</td>\n",
       "      <td>0.538</td>\n",
       "      <td>6.575</td>\n",
       "      <td>65.2</td>\n",
       "      <td>4.0900</td>\n",
       "      <td>1.0</td>\n",
       "      <td>296.0</td>\n",
       "      <td>15.3</td>\n",
       "      <td>396.90</td>\n",
       "      <td>4.98</td>\n",
       "    </tr>\n",
       "    <tr>\n",
       "      <th>1</th>\n",
       "      <td>0.02731</td>\n",
       "      <td>0.0</td>\n",
       "      <td>7.07</td>\n",
       "      <td>0.0</td>\n",
       "      <td>0.469</td>\n",
       "      <td>6.421</td>\n",
       "      <td>78.9</td>\n",
       "      <td>4.9671</td>\n",
       "      <td>2.0</td>\n",
       "      <td>242.0</td>\n",
       "      <td>17.8</td>\n",
       "      <td>396.90</td>\n",
       "      <td>9.14</td>\n",
       "    </tr>\n",
       "    <tr>\n",
       "      <th>2</th>\n",
       "      <td>0.02729</td>\n",
       "      <td>0.0</td>\n",
       "      <td>7.07</td>\n",
       "      <td>0.0</td>\n",
       "      <td>0.469</td>\n",
       "      <td>7.185</td>\n",
       "      <td>61.1</td>\n",
       "      <td>4.9671</td>\n",
       "      <td>2.0</td>\n",
       "      <td>242.0</td>\n",
       "      <td>17.8</td>\n",
       "      <td>392.83</td>\n",
       "      <td>4.03</td>\n",
       "    </tr>\n",
       "    <tr>\n",
       "      <th>3</th>\n",
       "      <td>0.03237</td>\n",
       "      <td>0.0</td>\n",
       "      <td>2.18</td>\n",
       "      <td>0.0</td>\n",
       "      <td>0.458</td>\n",
       "      <td>6.998</td>\n",
       "      <td>45.8</td>\n",
       "      <td>6.0622</td>\n",
       "      <td>3.0</td>\n",
       "      <td>222.0</td>\n",
       "      <td>18.7</td>\n",
       "      <td>394.63</td>\n",
       "      <td>2.94</td>\n",
       "    </tr>\n",
       "    <tr>\n",
       "      <th>4</th>\n",
       "      <td>0.06905</td>\n",
       "      <td>0.0</td>\n",
       "      <td>2.18</td>\n",
       "      <td>0.0</td>\n",
       "      <td>0.458</td>\n",
       "      <td>7.147</td>\n",
       "      <td>54.2</td>\n",
       "      <td>6.0622</td>\n",
       "      <td>3.0</td>\n",
       "      <td>222.0</td>\n",
       "      <td>18.7</td>\n",
       "      <td>396.90</td>\n",
       "      <td>5.33</td>\n",
       "    </tr>\n",
       "  </tbody>\n",
       "</table>\n",
       "</div>"
      ],
      "text/plain": [
       "      CRIM    ZN  INDUS  CHAS    NOX     RM   AGE     DIS  RAD    TAX  \\\n",
       "0  0.00632  18.0   2.31   0.0  0.538  6.575  65.2  4.0900  1.0  296.0   \n",
       "1  0.02731   0.0   7.07   0.0  0.469  6.421  78.9  4.9671  2.0  242.0   \n",
       "2  0.02729   0.0   7.07   0.0  0.469  7.185  61.1  4.9671  2.0  242.0   \n",
       "3  0.03237   0.0   2.18   0.0  0.458  6.998  45.8  6.0622  3.0  222.0   \n",
       "4  0.06905   0.0   2.18   0.0  0.458  7.147  54.2  6.0622  3.0  222.0   \n",
       "\n",
       "   PTRATIO       B  LSTAT  \n",
       "0     15.3  396.90   4.98  \n",
       "1     17.8  396.90   9.14  \n",
       "2     17.8  392.83   4.03  \n",
       "3     18.7  394.63   2.94  \n",
       "4     18.7  396.90   5.33  "
      ]
     },
     "execution_count": 25,
     "metadata": {},
     "output_type": "execute_result"
    }
   ],
   "source": [
    "boston = load_boston()\n",
    "x = boston.data\n",
    "y = boston.target\n",
    "columns = boston.feature_names\n",
    "\n",
    "# create the dataframe\n",
    "\n",
    "boston_df = pd.DataFrame(boston.data)\n",
    "boston_df.columns = columns\n",
    "boston_df.head()"
   ]
  },
  {
   "cell_type": "markdown",
   "id": "e19cf0de",
   "metadata": {},
   "source": [
    "Detect outliers with BoxPlot"
   ]
  },
  {
   "cell_type": "code",
   "execution_count": 5,
   "id": "f526b331",
   "metadata": {},
   "outputs": [
    {
     "data": {
      "text/plain": [
       "<seaborn.axisgrid.FacetGrid at 0x1927e732bb0>"
      ]
     },
     "execution_count": 5,
     "metadata": {},
     "output_type": "execute_result"
    },
    {
     "data": {
      "image/png": "[encoded data removed]",
      "text/plain": [
       "<Figure size 360x360 with 1 Axes>"
      ]
     },
     "metadata": {
      "needs_background": "light"
     },
     "output_type": "display_data"
    }
   ],
   "source": [
    "import seaborn as sns\n",
    "sns.catplot(\n",
    "    x= 'DIS',\n",
    "    data= boston_df,\n",
    "    kind = 'box'\n",
    ")"
   ]
  },
  {
   "cell_type": "markdown",
   "id": "30fc6833",
   "metadata": {},
   "source": [
    "scatter plot"
   ]
  },
  {
   "cell_type": "code",
   "execution_count": 6,
   "id": "98ff87cc",
   "metadata": {},
   "outputs": [
    {
     "data": {
      "text/plain": [
       "<AxesSubplot:xlabel='INDUS', ylabel='TAX'>"
      ]
     },
     "execution_count": 6,
     "metadata": {},
     "output_type": "execute_result"
    },
    {
     "data": {
      "image/png": "[encoded data removed]",
      "text/plain": [
       "<Figure size 432x288 with 1 Axes>"
      ]
     },
     "metadata": {
      "needs_background": "light"
     },
     "output_type": "display_data"
    }
   ],
   "source": [
    "sns.scatterplot(\n",
    "    x= 'INDUS',\n",
    "    y = 'TAX',\n",
    "    data = boston_df\n",
    ")"
   ]
  },
  {
   "cell_type": "markdown",
   "id": "29548b96",
   "metadata": {},
   "source": [
    "Z Score"
   ]
  },
  {
   "cell_type": "code",
   "execution_count": 7,
   "id": "cc78e6e1",
   "metadata": {},
   "outputs": [
    {
     "name": "stdout",
     "output_type": "stream",
     "text": [
      "         CRIM        ZN     INDUS      CHAS       NOX        RM       AGE  \\\n",
      "0    0.419782  0.284830  1.287909  0.272599  0.144217  0.413672  0.120013   \n",
      "1    0.417339  0.487722  0.593381  0.272599  0.740262  0.194274  0.367166   \n",
      "2    0.417342  0.487722  0.593381  0.272599  0.740262  1.282714  0.265812   \n",
      "3    0.416750  0.487722  1.306878  0.272599  0.835284  1.016303  0.809889   \n",
      "4    0.412482  0.487722  1.306878  0.272599  0.835284  1.228577  0.511180   \n",
      "..        ...       ...       ...       ...       ...       ...       ...   \n",
      "501  0.413229  0.487722  0.115738  0.272599  0.158124  0.439316  0.018673   \n",
      "502  0.415249  0.487722  0.115738  0.272599  0.158124  0.234548  0.288933   \n",
      "503  0.413447  0.487722  0.115738  0.272599  0.158124  0.984960  0.797449   \n",
      "504  0.407764  0.487722  0.115738  0.272599  0.158124  0.725672  0.736996   \n",
      "505  0.415000  0.487722  0.115738  0.272599  0.158124  0.362767  0.434732   \n",
      "\n",
      "          DIS       RAD       TAX   PTRATIO         B     LSTAT  \n",
      "0    0.140214  0.982843  0.666608  1.459000  0.441052  1.075562  \n",
      "1    0.557160  0.867883  0.987329  0.303094  0.441052  0.492439  \n",
      "2    0.557160  0.867883  0.987329  0.303094  0.396427  1.208727  \n",
      "3    1.077737  0.752922  1.106115  0.113032  0.416163  1.361517  \n",
      "4    1.077737  0.752922  1.106115  0.113032  0.441052  1.026501  \n",
      "..        ...       ...       ...       ...       ...       ...  \n",
      "501  0.625796  0.982843  0.803212  1.176466  0.387217  0.418147  \n",
      "502  0.716639  0.982843  0.803212  1.176466  0.441052  0.500850  \n",
      "503  0.773684  0.982843  0.803212  1.176466  0.441052  0.983048  \n",
      "504  0.668437  0.982843  0.803212  1.176466  0.403225  0.865302  \n",
      "505  0.613246  0.982843  0.803212  1.176466  0.441052  0.669058  \n",
      "\n",
      "[506 rows x 13 columns]\n"
     ]
    }
   ],
   "source": [
    "from scipy import stats\n",
    "\n",
    "z = np.abs(stats.zscore(boston_df))\n",
    "print(z)"
   ]
  },
  {
   "cell_type": "code",
   "execution_count": 8,
   "id": "512f46df",
   "metadata": {},
   "outputs": [
    {
     "name": "stdout",
     "output_type": "stream",
     "text": [
      "(array([ 55,  56,  57, 102, 141, 142, 152, 154, 155, 160, 162, 163, 199,\n",
      "       200, 201, 202, 203, 204, 208, 209, 210, 211, 212, 216, 218, 219,\n",
      "       220, 221, 222, 225, 234, 236, 256, 257, 262, 269, 273, 274, 276,\n",
      "       277, 282, 283, 283, 284, 347, 351, 352, 353, 353, 354, 355, 356,\n",
      "       357, 358, 363, 364, 364, 365, 367, 369, 370, 372, 373, 374, 374,\n",
      "       380, 398, 404, 405, 406, 410, 410, 411, 412, 412, 414, 414, 415,\n",
      "       416, 418, 418, 419, 423, 424, 425, 426, 427, 427, 429, 431, 436,\n",
      "       437, 438, 445, 450, 454, 455, 456, 457, 466], dtype=int64), array([ 1,  1,  1, 11, 12,  3,  3,  3,  3,  3,  3,  3,  1,  1,  1,  1,  1,\n",
      "        1,  3,  3,  3,  3,  3,  3,  3,  3,  3,  3,  3,  5,  3,  3,  1,  5,\n",
      "        5,  3,  3,  3,  3,  3,  3,  1,  3,  1,  1,  7,  7,  1,  7,  7,  7,\n",
      "        3,  3,  3,  3,  3,  5,  5,  5,  3,  3,  3, 12,  5, 12,  0,  0,  0,\n",
      "        0,  5,  0, 11, 11, 11, 12,  0, 12, 11, 11,  0, 11, 11, 11, 11, 11,\n",
      "       11,  0, 11, 11, 11, 11, 11, 11, 11, 11, 11, 11, 11, 11, 11],\n",
      "      dtype=int64))\n"
     ]
    }
   ],
   "source": [
    "threshold = 3\n",
    "print(np.where(z > 3))"
   ]
  },
  {
   "cell_type": "code",
   "execution_count": 12,
   "id": "ba34fc2f",
   "metadata": {},
   "outputs": [
    {
     "data": {
      "text/plain": [
       "CRIM         8.601545\n",
       "ZN          23.322453\n",
       "INDUS        6.860353\n",
       "CHAS         0.253994\n",
       "NOX          0.115878\n",
       "RM           0.702617\n",
       "AGE         28.148861\n",
       "DIS          2.105710\n",
       "RAD          8.707259\n",
       "TAX        168.537116\n",
       "PTRATIO      2.164946\n",
       "B           91.294864\n",
       "LSTAT        7.141062\n",
       "dtype: float64"
      ]
     },
     "execution_count": 12,
     "metadata": {},
     "output_type": "execute_result"
    }
   ],
   "source": [
    "boston_df.std()"
   ]
  },
  {
   "cell_type": "markdown",
   "id": "e997fb50",
   "metadata": {},
   "source": [
    "IQR RANGE"
   ]
  },
  {
   "cell_type": "code",
   "execution_count": 13,
   "id": "4bf9e6db",
   "metadata": {},
   "outputs": [],
   "source": [
    "boston_df_01 = boston_df"
   ]
  },
  {
   "cell_type": "code",
   "execution_count": 14,
   "id": "cc4228e1",
   "metadata": {},
   "outputs": [
    {
     "name": "stdout",
     "output_type": "stream",
     "text": [
      "CRIM         3.595038\n",
      "ZN          12.500000\n",
      "INDUS       12.910000\n",
      "CHAS         0.000000\n",
      "NOX          0.175000\n",
      "RM           0.738000\n",
      "AGE         49.050000\n",
      "DIS          3.088250\n",
      "RAD         20.000000\n",
      "TAX        387.000000\n",
      "PTRATIO      2.800000\n",
      "B           20.847500\n",
      "LSTAT       10.005000\n",
      "dtype: float64\n"
     ]
    }
   ],
   "source": [
    "q1 = boston_df_01.quantile(0.25)\n",
    "q3 = boston_df_01.quantile(0.75)\n",
    "\n",
    "iqr = q3-q1\n",
    "print(iqr)"
   ]
  },
  {
   "cell_type": "code",
   "execution_count": 15,
   "id": "b9f8803e",
   "metadata": {},
   "outputs": [],
   "source": [
    "boston_df_out = boston_df_01[~((boston_df_01<(q1-1.5*iqr))|(boston_df_01 > (q3 + 1.5*iqr)))]"
   ]
  },
  {
   "cell_type": "code",
   "execution_count": 16,
   "id": "9606469c",
   "metadata": {},
   "outputs": [
    {
     "data": {
      "text/plain": [
       "(506, 13)"
      ]
     },
     "execution_count": 16,
     "metadata": {},
     "output_type": "execute_result"
    }
   ],
   "source": [
    "boston_df.shape"
   ]
  },
  {
   "cell_type": "code",
   "execution_count": 17,
   "id": "cebea66c",
   "metadata": {},
   "outputs": [
    {
     "data": {
      "text/plain": [
       "(506, 13)"
      ]
     },
     "execution_count": 17,
     "metadata": {},
     "output_type": "execute_result"
    }
   ],
   "source": [
    "boston_df_01.shape"
   ]
  },
  {
   "cell_type": "code",
   "execution_count": 18,
   "id": "a612a711",
   "metadata": {},
   "outputs": [
    {
     "data": {
      "text/plain": [
       "(506, 13)"
      ]
     },
     "execution_count": 18,
     "metadata": {},
     "output_type": "execute_result"
    }
   ],
   "source": [
    "boston_df_out.shape"
   ]
  },
  {
   "cell_type": "code",
   "execution_count": 23,
   "id": "b0cda0ca",
   "metadata": {},
   "outputs": [],
   "source": [
    "def remove_outliers(df):\n",
    "    outliers = {}\n",
    "    for col in df.columns:\n",
    "        if str(df[col].dtype) != 'object':\n",
    "            df = df[np.abs(df[col]-df[col].mean()) < (3*df[col].std())]\n",
    "            olrs = df[~(np.abs(df[col]-df[col].mean()) < (3*df[col].std()))]\n",
    "            outliers = pd.DataFrame(olrs)\n",
    "    \n",
    "    return print('These outliers have been removed from your dataset: \\n\\n', outliers,\n",
    "                'New shape is:', df.shape)"
   ]
  },
  {
   "cell_type": "code",
   "execution_count": 24,
   "id": "8ffd6e4f",
   "metadata": {},
   "outputs": [
    {
     "name": "stdout",
     "output_type": "stream",
     "text": [
      "These outliers have been removed from your dataset: \n",
      "\n",
      "         CRIM   ZN  INDUS  CHAS  NOX   RM   AGE     DIS   RAD    TAX  PTRATIO  \\\n",
      "387  22.5971  0.0   18.1   0.0  0.7  5.0  89.5  1.5184  24.0  666.0     20.2   \n",
      "\n",
      "         B  LSTAT  \n",
      "387  396.9  31.99   New shape is: (412, 13)\n"
     ]
    }
   ],
   "source": [
    "remove_outliers(boston_df)"
   ]
  },
  {
   "cell_type": "markdown",
   "id": "aa1a1ca1",
   "metadata": {},
   "source": [
    "Automatic outlier detection"
   ]
  },
  {
   "cell_type": "code",
   "execution_count": 29,
   "id": "e1593afb",
   "metadata": {},
   "outputs": [
    {
     "name": "stdout",
     "output_type": "stream",
     "text": [
      "(506, 12) (506,)\n"
     ]
    }
   ],
   "source": [
    "from sklearn.model_selection import train_test_split\n",
    "from sklearn.linear_model import LinearRegression\n",
    "from sklearn.metrics import mean_absolute_error\n",
    "data = boston_df.values\n",
    "\n",
    "X, y = data[:,:-1], data[:,-1]\n",
    "\n",
    "print(X.shape, y.shape)"
   ]
  },
  {
   "cell_type": "code",
   "execution_count": 30,
   "id": "65dada44",
   "metadata": {},
   "outputs": [
    {
     "name": "stdout",
     "output_type": "stream",
     "text": [
      "(339, 12) (167, 12) (339,) (167,)\n"
     ]
    }
   ],
   "source": [
    "Xtrain, xtest, Ytrain , ytest = train_test_split(X, y , test_size=0.33,\n",
    "                                                random_state=1)\n",
    "\n",
    "print(Xtrain.shape, xtest.shape, Ytrain.shape, ytest.shape)"
   ]
  },
  {
   "cell_type": "code",
   "execution_count": 31,
   "id": "2c83b0fe",
   "metadata": {},
   "outputs": [
    {
     "name": "stdout",
     "output_type": "stream",
     "text": [
      "mae: 3.018\n"
     ]
    }
   ],
   "source": [
    "model = LinearRegression()\n",
    "\n",
    "model.fit(Xtrain, Ytrain)\n",
    "\n",
    "yhat = model.predict(xtest)\n",
    "\n",
    "mae = mean_absolute_error(ytest, yhat)\n",
    "print('mae: %.3f' %mae)"
   ]
  },
  {
   "cell_type": "markdown",
   "id": "165e41e5",
   "metadata": {},
   "source": [
    "Local Outlier Detector\n"
   ]
  },
  {
   "cell_type": "code",
   "execution_count": 33,
   "id": "cf81ed33",
   "metadata": {},
   "outputs": [],
   "source": [
    "from sklearn.neighbors import LocalOutlierFactor\n",
    "lof = LocalOutlierFactor()\n",
    "yhat = lof.fit_predict(Xtrain)\n",
    "\n",
    "# select all rows that are not outliers\n",
    "mask = yhat!= -1\n",
    "Xtrain, Ytrain = Xtrain[mask, :], Ytrain[mask]"
   ]
  },
  {
   "cell_type": "code",
   "execution_count": 34,
   "id": "beaa035b",
   "metadata": {},
   "outputs": [
    {
     "name": "stdout",
     "output_type": "stream",
     "text": [
      "(298, 12) (298,)\n",
      "\n",
      "MAE: 2.997\n"
     ]
    }
   ],
   "source": [
    "print(Xtrain.shape, Ytrain.shape)\n",
    "\n",
    "model = LinearRegression()\n",
    "\n",
    "model.fit(Xtrain, Ytrain)\n",
    "\n",
    "yhat = model.predict(xtest)\n",
    "\n",
    "mae = mean_absolute_error(ytest, yhat)\n",
    "print('\\nMAE: %.3f' %mae) "
   ]
  },
  {
   "cell_type": "code",
   "execution_count": null,
   "id": "c36bc766",
   "metadata": {},
   "outputs": [],
   "source": []
  }
 ],
 "metadata": {
  "kernelspec": {
   "display_name": "Python 3 (ipykernel)",
   "language": "python",
   "name": "python3"
  },
  "language_info": {
   "codemirror_mode": {
    "name": "ipython",
    "version": 3
   },
   "file_extension": ".py",
   "mimetype": "text/x-python",
   "name": "python",
   "nbconvert_exporter": "python",
   "pygments_lexer": "ipython3",
   "version": "3.9.12"
  }
 },
 "nbformat": 4,
 "nbformat_minor": 5
}
